{
 "cells": [
  {
   "cell_type": "code",
   "execution_count": 1,
   "metadata": {},
   "outputs": [],
   "source": [
    "import pandas as pd \n"
   ]
  },
  {
   "cell_type": "code",
   "execution_count": 2,
   "metadata": {},
   "outputs": [
    {
     "name": "stderr",
     "output_type": "stream",
     "text": [
      "C:\\Users\\vukya\\AppData\\Local\\Temp\\ipykernel_5448\\3877652784.py:9: FutureWarning: The frame.append method is deprecated and will be removed from pandas in a future version. Use pandas.concat instead.\n",
      "  combined_df=combined_df.append(df)\n",
      "C:\\Users\\vukya\\AppData\\Local\\Temp\\ipykernel_5448\\3877652784.py:9: FutureWarning: The frame.append method is deprecated and will be removed from pandas in a future version. Use pandas.concat instead.\n",
      "  combined_df=combined_df.append(df)\n",
      "C:\\Users\\vukya\\AppData\\Local\\Temp\\ipykernel_5448\\3877652784.py:9: FutureWarning: The frame.append method is deprecated and will be removed from pandas in a future version. Use pandas.concat instead.\n",
      "  combined_df=combined_df.append(df)\n",
      "C:\\Users\\vukya\\AppData\\Local\\Temp\\ipykernel_5448\\3877652784.py:9: FutureWarning: The frame.append method is deprecated and will be removed from pandas in a future version. Use pandas.concat instead.\n",
      "  combined_df=combined_df.append(df)\n",
      "C:\\Users\\vukya\\AppData\\Local\\Temp\\ipykernel_5448\\3877652784.py:9: FutureWarning: The frame.append method is deprecated and will be removed from pandas in a future version. Use pandas.concat instead.\n",
      "  combined_df=combined_df.append(df)\n",
      "C:\\Users\\vukya\\AppData\\Local\\Temp\\ipykernel_5448\\3877652784.py:9: FutureWarning: The frame.append method is deprecated and will be removed from pandas in a future version. Use pandas.concat instead.\n",
      "  combined_df=combined_df.append(df)\n",
      "C:\\Users\\vukya\\AppData\\Local\\Temp\\ipykernel_5448\\3877652784.py:9: FutureWarning: The frame.append method is deprecated and will be removed from pandas in a future version. Use pandas.concat instead.\n",
      "  combined_df=combined_df.append(df)\n",
      "C:\\Users\\vukya\\AppData\\Local\\Temp\\ipykernel_5448\\3877652784.py:9: FutureWarning: The frame.append method is deprecated and will be removed from pandas in a future version. Use pandas.concat instead.\n",
      "  combined_df=combined_df.append(df)\n",
      "C:\\Users\\vukya\\AppData\\Local\\Temp\\ipykernel_5448\\3877652784.py:9: FutureWarning: The frame.append method is deprecated and will be removed from pandas in a future version. Use pandas.concat instead.\n",
      "  combined_df=combined_df.append(df)\n",
      "C:\\Users\\vukya\\AppData\\Local\\Temp\\ipykernel_5448\\3877652784.py:9: FutureWarning: The frame.append method is deprecated and will be removed from pandas in a future version. Use pandas.concat instead.\n",
      "  combined_df=combined_df.append(df)\n",
      "C:\\Users\\vukya\\AppData\\Local\\Temp\\ipykernel_5448\\3877652784.py:9: FutureWarning: The frame.append method is deprecated and will be removed from pandas in a future version. Use pandas.concat instead.\n",
      "  combined_df=combined_df.append(df)\n",
      "C:\\Users\\vukya\\AppData\\Local\\Temp\\ipykernel_5448\\3877652784.py:9: FutureWarning: The frame.append method is deprecated and will be removed from pandas in a future version. Use pandas.concat instead.\n",
      "  combined_df=combined_df.append(df)\n",
      "C:\\Users\\vukya\\AppData\\Local\\Temp\\ipykernel_5448\\3877652784.py:9: FutureWarning: The frame.append method is deprecated and will be removed from pandas in a future version. Use pandas.concat instead.\n",
      "  combined_df=combined_df.append(df)\n",
      "C:\\Users\\vukya\\AppData\\Local\\Temp\\ipykernel_5448\\3877652784.py:9: FutureWarning: The frame.append method is deprecated and will be removed from pandas in a future version. Use pandas.concat instead.\n",
      "  combined_df=combined_df.append(df)\n",
      "C:\\Users\\vukya\\AppData\\Local\\Temp\\ipykernel_5448\\3877652784.py:9: FutureWarning: The frame.append method is deprecated and will be removed from pandas in a future version. Use pandas.concat instead.\n",
      "  combined_df=combined_df.append(df)\n",
      "C:\\Users\\vukya\\AppData\\Local\\Temp\\ipykernel_5448\\3877652784.py:9: FutureWarning: The frame.append method is deprecated and will be removed from pandas in a future version. Use pandas.concat instead.\n",
      "  combined_df=combined_df.append(df)\n",
      "C:\\Users\\vukya\\AppData\\Local\\Temp\\ipykernel_5448\\3877652784.py:9: FutureWarning: The frame.append method is deprecated and will be removed from pandas in a future version. Use pandas.concat instead.\n",
      "  combined_df=combined_df.append(df)\n",
      "C:\\Users\\vukya\\AppData\\Local\\Temp\\ipykernel_5448\\3877652784.py:9: FutureWarning: The frame.append method is deprecated and will be removed from pandas in a future version. Use pandas.concat instead.\n",
      "  combined_df=combined_df.append(df)\n",
      "C:\\Users\\vukya\\AppData\\Local\\Temp\\ipykernel_5448\\3877652784.py:9: FutureWarning: The frame.append method is deprecated and will be removed from pandas in a future version. Use pandas.concat instead.\n",
      "  combined_df=combined_df.append(df)\n",
      "C:\\Users\\vukya\\AppData\\Local\\Temp\\ipykernel_5448\\3877652784.py:9: FutureWarning: The frame.append method is deprecated and will be removed from pandas in a future version. Use pandas.concat instead.\n",
      "  combined_df=combined_df.append(df)\n",
      "C:\\Users\\vukya\\AppData\\Local\\Temp\\ipykernel_5448\\3877652784.py:9: FutureWarning: The frame.append method is deprecated and will be removed from pandas in a future version. Use pandas.concat instead.\n",
      "  combined_df=combined_df.append(df)\n",
      "C:\\Users\\vukya\\AppData\\Local\\Temp\\ipykernel_5448\\3877652784.py:9: FutureWarning: The frame.append method is deprecated and will be removed from pandas in a future version. Use pandas.concat instead.\n",
      "  combined_df=combined_df.append(df)\n",
      "C:\\Users\\vukya\\AppData\\Local\\Temp\\ipykernel_5448\\3877652784.py:9: FutureWarning: The frame.append method is deprecated and will be removed from pandas in a future version. Use pandas.concat instead.\n",
      "  combined_df=combined_df.append(df)\n"
     ]
    }
   ],
   "source": [
    "alp='abcdefghijlkmopqrstuvwz'\n",
    "import pandas as pd\n",
    "headers = ['journal_title', 'keyowrds', 'abstract'] \n",
    "\n",
    "combined_df = pd.read_csv('n.csv', sep=';',header=None, names=headers)\n",
    "\n",
    "for x in alp:\n",
    "   df=pd.read_csv(f'{x}.csv',sep=';',header=None, names=headers)\n",
    "   combined_df=combined_df.append(df)\n",
    "    \n"
   ]
  },
  {
   "cell_type": "code",
<<<<<<< HEAD
   "execution_count": 9,
=======
   "execution_count": null,
   "metadata": {},
   "outputs": [],
   "source": []
  },
  {
   "cell_type": "code",
   "execution_count": 3,
>>>>>>> ca6b24c7addbb7d5f9dd878b9948c6e51d6f89b5
   "metadata": {},
   "outputs": [
    {
     "data": {
      "text/plain": [
       "journal_title    3811\n",
       "keyowrds         3759\n",
       "abstract         2412\n",
       "dtype: int64"
      ]
     },
     "execution_count": 3,
     "metadata": {},
     "output_type": "execute_result"
    }
   ],
   "source": [
    "combined_df.count()"
   ]
  },
  {
   "cell_type": "code",
   "execution_count": 4,
   "metadata": {},
   "outputs": [
    {
     "data": {
      "text/html": [
       "<div>\n",
       "<style scoped>\n",
       "    .dataframe tbody tr th:only-of-type {\n",
       "        vertical-align: middle;\n",
       "    }\n",
       "\n",
       "    .dataframe tbody tr th {\n",
       "        vertical-align: top;\n",
       "    }\n",
       "\n",
       "    .dataframe thead th {\n",
       "        text-align: right;\n",
       "    }\n",
       "</style>\n",
       "<table border=\"1\" class=\"dataframe\">\n",
       "  <thead>\n",
       "    <tr style=\"text-align: right;\">\n",
       "      <th></th>\n",
       "      <th>journal_title</th>\n",
       "      <th>keyowrds</th>\n",
       "      <th>abstract</th>\n",
       "    </tr>\n",
       "  </thead>\n",
       "  <tbody>\n",
       "    <tr>\n",
       "      <th>count</th>\n",
       "      <td>3811</td>\n",
       "      <td>3759</td>\n",
       "      <td>2412</td>\n",
       "    </tr>\n",
       "    <tr>\n",
       "      <th>unique</th>\n",
       "      <td>3807</td>\n",
       "      <td>3758</td>\n",
       "      <td>2411</td>\n",
       "    </tr>\n",
       "    <tr>\n",
       "      <th>top</th>\n",
       "      <td>Molecules Online</td>\n",
       "      <td>Journal of Biomedical Science Biomedicine general</td>\n",
       "      <td>Sankhya the Indian Journal of Statistics is th...</td>\n",
       "    </tr>\n",
       "    <tr>\n",
       "      <th>freq</th>\n",
       "      <td>2</td>\n",
       "      <td>2</td>\n",
       "      <td>2</td>\n",
       "    </tr>\n",
       "  </tbody>\n",
       "</table>\n",
       "</div>"
      ],
      "text/plain": [
       "           journal_title                                           keyowrds  \\\n",
       "count               3811                                               3759   \n",
       "unique              3807                                               3758   \n",
       "top     Molecules Online  Journal of Biomedical Science Biomedicine general   \n",
       "freq                   2                                                  2   \n",
       "\n",
       "                                                 abstract  \n",
       "count                                                2412  \n",
       "unique                                               2411  \n",
       "top     Sankhya the Indian Journal of Statistics is th...  \n",
       "freq                                                    2  "
      ]
     },
     "execution_count": 4,
     "metadata": {},
     "output_type": "execute_result"
    }
   ],
   "source": [
    "combined_df.describe()"
   ]
  },
  {
   "cell_type": "code",
   "execution_count": 5,
   "metadata": {},
   "outputs": [
    {
     "ename": "AttributeError",
     "evalue": "'str' object has no attribute 'head'",
     "output_type": "error",
     "traceback": [
      "\u001b[1;31m---------------------------------------------------------------------------\u001b[0m",
      "\u001b[1;31mAttributeError\u001b[0m                            Traceback (most recent call last)",
      "Cell \u001b[1;32mIn[5], line 1\u001b[0m\n\u001b[1;32m----> 1\u001b[0m x\u001b[39m.\u001b[39;49mhead()\n",
      "\u001b[1;31mAttributeError\u001b[0m: 'str' object has no attribute 'head'"
     ]
    }
   ],
   "source": [
    "\n",
    "x.head()"
   ]
  },
  {
   "cell_type": "code",
   "execution_count": null,
   "metadata": {},
   "outputs": [
    {
     "data": {
      "text/html": [
       "<div>\n",
       "<style scoped>\n",
       "    .dataframe tbody tr th:only-of-type {\n",
       "        vertical-align: middle;\n",
       "    }\n",
       "\n",
       "    .dataframe tbody tr th {\n",
       "        vertical-align: top;\n",
       "    }\n",
       "\n",
       "    .dataframe thead th {\n",
       "        text-align: right;\n",
       "    }\n",
       "</style>\n",
       "<table border=\"1\" class=\"dataframe\">\n",
       "  <thead>\n",
       "    <tr style=\"text-align: right;\">\n",
       "      <th></th>\n",
       "      <th>journal_title</th>\n",
       "      <th>keyowrds</th>\n",
       "      <th>abstract</th>\n",
       "    </tr>\n",
       "  </thead>\n",
       "  <tbody>\n",
       "    <tr>\n",
       "      <th>0</th>\n",
       "      <td>NETNOMICS Economic Research and Electronic Net...</td>\n",
       "      <td>NETNOMICS Economic Research and Electronic Net...</td>\n",
       "      <td>We regret to inform you that NETNOMICS Economi...</td>\n",
       "    </tr>\n",
       "    <tr>\n",
       "      <th>1</th>\n",
       "      <td>NTM Zeitschrift fr Geschichte der Wissenschaft...</td>\n",
       "      <td>NTM Zeitschrift fr Geschichte der Wissenschaft...</td>\n",
       "      <td>NTM ist die grte Zeitschrift fr Wissenschafts ...</td>\n",
       "    </tr>\n",
       "    <tr>\n",
       "      <th>2</th>\n",
       "      <td>Nano Convergence</td>\n",
       "      <td>Nano Convergence Nanotechnology Nanoscale Scie...</td>\n",
       "      <td>NaN</td>\n",
       "    </tr>\n",
       "    <tr>\n",
       "      <th>3</th>\n",
       "      <td>Nano Research</td>\n",
       "      <td>Nano Research Nanotechnology Materials Science...</td>\n",
       "      <td>Nano Research is a peerreviewed international ...</td>\n",
       "    </tr>\n",
       "    <tr>\n",
       "      <th>4</th>\n",
       "      <td>NanoMicro Letters</td>\n",
       "      <td>NanoMicro Letters Nanotechnology and Microengi...</td>\n",
       "      <td>NanoMicro Letters is a peerreviewed internatio...</td>\n",
       "    </tr>\n",
       "    <tr>\n",
       "      <th>...</th>\n",
       "      <td>...</td>\n",
       "      <td>...</td>\n",
       "      <td>...</td>\n",
       "    </tr>\n",
       "    <tr>\n",
       "      <th>30</th>\n",
       "      <td>Zeitschrift fr Vergleichende Politikwissenschaft</td>\n",
       "      <td>Zeitschrift fr Vergleichende Politikwissenscha...</td>\n",
       "      <td>Die Zeitschrift fr Vergleichende Politikwissen...</td>\n",
       "    </tr>\n",
       "    <tr>\n",
       "      <th>31</th>\n",
       "      <td>Zeitschrift fr Weiterbildungsforschung</td>\n",
       "      <td>Zeitschrift fr Weiterbildungsforschung Educati...</td>\n",
       "      <td>Die Zeitschrift fr Weiterbildungsforschung ZfW...</td>\n",
       "    </tr>\n",
       "    <tr>\n",
       "      <th>32</th>\n",
       "      <td>Zeitschrift fr angewandte Mathematik und Physik</td>\n",
       "      <td>Zeitschrift fr angewandte Mathematik und Physi...</td>\n",
       "      <td>Please note this journals peer review system h...</td>\n",
       "    </tr>\n",
       "    <tr>\n",
       "      <th>33</th>\n",
       "      <td>Zeitschrift fr die gesamte Neurologie und Psyc...</td>\n",
       "      <td>Zeitschrift fr die gesamte Neurologie und Psyc...</td>\n",
       "      <td>NaN</td>\n",
       "    </tr>\n",
       "    <tr>\n",
       "      <th>34</th>\n",
       "      <td>Zeitschrift fr die gesamte Versicherungswissen...</td>\n",
       "      <td>Zeitschrift fr die gesamte Versicherungswissen...</td>\n",
       "      <td>Zeitschrift fr die gesamte Versicherungswissen...</td>\n",
       "    </tr>\n",
       "  </tbody>\n",
       "</table>\n",
       "<p>3801 rows × 3 columns</p>\n",
       "</div>"
      ],
      "text/plain": [
       "                                        journal_title  \\\n",
       "0   NETNOMICS Economic Research and Electronic Net...   \n",
       "1   NTM Zeitschrift fr Geschichte der Wissenschaft...   \n",
       "2                                    Nano Convergence   \n",
       "3                                       Nano Research   \n",
       "4                                   NanoMicro Letters   \n",
       "..                                                ...   \n",
       "30   Zeitschrift fr Vergleichende Politikwissenschaft   \n",
       "31             Zeitschrift fr Weiterbildungsforschung   \n",
       "32    Zeitschrift fr angewandte Mathematik und Physik   \n",
       "33  Zeitschrift fr die gesamte Neurologie und Psyc...   \n",
       "34  Zeitschrift fr die gesamte Versicherungswissen...   \n",
       "\n",
       "                                             keyowrds  \\\n",
       "0   NETNOMICS Economic Research and Electronic Net...   \n",
       "1   NTM Zeitschrift fr Geschichte der Wissenschaft...   \n",
       "2   Nano Convergence Nanotechnology Nanoscale Scie...   \n",
       "3   Nano Research Nanotechnology Materials Science...   \n",
       "4   NanoMicro Letters Nanotechnology and Microengi...   \n",
       "..                                                ...   \n",
       "30  Zeitschrift fr Vergleichende Politikwissenscha...   \n",
       "31  Zeitschrift fr Weiterbildungsforschung Educati...   \n",
       "32  Zeitschrift fr angewandte Mathematik und Physi...   \n",
       "33  Zeitschrift fr die gesamte Neurologie und Psyc...   \n",
       "34  Zeitschrift fr die gesamte Versicherungswissen...   \n",
       "\n",
       "                                             abstract  \n",
       "0   We regret to inform you that NETNOMICS Economi...  \n",
       "1   NTM ist die grte Zeitschrift fr Wissenschafts ...  \n",
       "2                                                 NaN  \n",
       "3   Nano Research is a peerreviewed international ...  \n",
       "4   NanoMicro Letters is a peerreviewed internatio...  \n",
       "..                                                ...  \n",
       "30  Die Zeitschrift fr Vergleichende Politikwissen...  \n",
       "31  Die Zeitschrift fr Weiterbildungsforschung ZfW...  \n",
       "32  Please note this journals peer review system h...  \n",
       "33                                                NaN  \n",
       "34  Zeitschrift fr die gesamte Versicherungswissen...  \n",
       "\n",
       "[3801 rows x 3 columns]"
      ]
     },
     "execution_count": 17,
     "metadata": {},
     "output_type": "execute_result"
    }
   ],
   "source": [
    "combined_df.head(-10)"
   ]
  }
 ],
 "metadata": {
  "kernelspec": {
   "display_name": "base",
   "language": "python",
   "name": "python3"
  },
  "language_info": {
   "codemirror_mode": {
    "name": "ipython",
    "version": 3
   },
   "file_extension": ".py",
   "mimetype": "text/x-python",
   "name": "python",
   "nbconvert_exporter": "python",
   "pygments_lexer": "ipython3",
   "version": "3.10.9"
  },
  "orig_nbformat": 4
 },
 "nbformat": 4,
 "nbformat_minor": 2
}
