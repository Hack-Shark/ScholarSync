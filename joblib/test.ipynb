{
 "cells": [
  {
   "cell_type": "code",
   "execution_count": 1,
   "metadata": {},
   "outputs": [
    {
     "name": "stderr",
     "output_type": "stream",
     "text": [
      "c:\\Users\\vukya\\anaconda3\\lib\\site-packages\\numpy\\_distributor_init.py:30: UserWarning: loaded more than 1 DLL from .libs:\n",
      "c:\\Users\\vukya\\anaconda3\\lib\\site-packages\\numpy\\.libs\\libopenblas.FB5AE2TYXYH2IJRDKGDGQ3XBKLKTF43H.gfortran-win_amd64.dll\n",
      "c:\\Users\\vukya\\anaconda3\\lib\\site-packages\\numpy\\.libs\\libopenblas64__v0.3.23-gcc_10_3_0.dll\n",
      "  warnings.warn(\"loaded more than 1 DLL from .libs:\"\n"
     ]
    }
   ],
   "source": [
    "import joblib\n",
    "from sklearn.metrics.pairwise import cosine_similarity\n",
    "import redis\n",
    "import pickle\n",
    "import joblib\n",
    "#from .models import JournalArticle\n",
    "from sklearn.feature_extraction.text import TfidfVectorizer\n",
    "from sklearn.metrics.pairwise import cosine_similarity\n",
    "from django.shortcuts import get_object_or_404\n",
    "redis_client = redis.Redis(host='containers-us-west-160.railway.app', port=5875,password=\"YSueGOq98SZCXvuet2ey\")\n",
    "JOURNAL_VECTORIZER = joblib.load('vectorizer.joblib')\n",
    "JOURNAL_TFIDF_MATRIX = joblib.load('journal_tfidf.joblib')\n",
    "\n",
    "journal_threshold = 3\n",
    "\n",
    "def get_journal_index(user_input):\n",
    "    user_tfidf = JOURNAL_VECTORIZER.transform([user_input])\n",
    "    cosine_similarities = cosine_similarity(user_tfidf, JOURNAL_TFIDF_MATRIX).flatten()\n",
    "    indices = cosine_similarities.argsort()[::-1]\n",
    "    top_recommendations = [i for i in indices if cosine_similarities[i] > 0][:min(journal_threshold, len(indices))]\n",
    "    print(top_recommendations)\n",
    "    return top_recommendations\n"
   ]
  },
  {
   "cell_type": "code",
   "execution_count": 4,
   "metadata": {},
   "outputs": [],
   "source": [
    "def get_article_recommendations(user_input):\n",
    "    l = []\n",
    "    journal_ids = get_journal_index(user_input)\n",
    "    for id in journal_ids:\n",
    "        tfidf_matrix = joblib.load(f'journal_tfidf_{id}.joblib')\n",
    "        vectorizer = joblib.load(f'vectorizer_{id}.joblib')\n",
    "\n",
    "        user_tfidf = vectorizer.transform([user_input])\n",
    "        cosine_similarities = cosine_similarity(user_tfidf, tfidf_matrix).flatten()\n",
    "        \n",
    "        indices = cosine_similarities.argsort()[::-1]\n",
    "        top_recommendation_articles = [(cosine_similarities[i], i, id) for i in indices if cosine_similarities[i] > 0][:min(10, len(indices))]\n",
    "        l.append(top_recommendation_articles)\n",
    "    l.sort(reverse=True)\n",
    "    return l\n",
    "\n"
   ]
  },
  {
   "cell_type": "code",
   "execution_count": 5,
   "metadata": {},
   "outputs": [
    {
     "name": "stdout",
     "output_type": "stream",
     "text": [
      "[3, 2, 599]\n",
      "[[(0.3634677801391609, 167, 3), (0.3335374973920005, 155, 3), (0.30212544862593343, 254, 3), (0.29350370171196033, 136, 3), (0.23531677328609785, 86, 3), (0.2174775839046739, 183, 3), (0.2174775839046739, 12, 3), (0.21321954198932952, 161, 3), (0.209885462803504, 290, 3), (0.20567041552733953, 85, 3)], [], []]\n"
     ]
    }
   ],
   "source": [
    "\n",
    "user_input = \"AI\"\n",
    "\n",
    "print(get_article_recommendations(user_input))"
   ]
  },
  {
   "cell_type": "code",
   "execution_count": null,
   "metadata": {},
   "outputs": [],
   "source": []
  }
 ],
 "metadata": {
  "kernelspec": {
   "display_name": "Python 3",
   "language": "python",
   "name": "python3"
  },
  "language_info": {
   "codemirror_mode": {
    "name": "ipython",
    "version": 3
   },
   "file_extension": ".py",
   "mimetype": "text/x-python",
   "name": "python",
   "nbconvert_exporter": "python",
   "pygments_lexer": "ipython3",
   "version": "3.10.9"
  },
  "orig_nbformat": 4
 },
 "nbformat": 4,
 "nbformat_minor": 2
}
